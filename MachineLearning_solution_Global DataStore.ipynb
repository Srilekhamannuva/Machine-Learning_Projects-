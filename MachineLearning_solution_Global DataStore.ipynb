{
 "cells": [
  {
   "cell_type": "code",
   "execution_count": 1,
   "id": "e360c242-d459-4438-ae3b-1f2907aaea51",
   "metadata": {},
   "outputs": [],
   "source": [
    "from matplotlib import pyplot as plt\n",
    "from matplotlib import style\n",
    "import seaborn as sns\n",
    "%matplotlib inline\n",
    "import pandas as pd\n"
   ]
  },
  {
   "cell_type": "markdown",
   "id": "ad03f604-8d15-45c9-a35c-2e74250fc0cd",
   "metadata": {},
   "source": [
    "## Global DataStore"
   ]
  },
  {
   "cell_type": "code",
   "execution_count": 2,
   "id": "aedd8e77-61f5-48b0-9beb-d969a21bb372",
   "metadata": {},
   "outputs": [
    {
     "data": {
      "text/html": [
       "<div>\n",
       "<style scoped>\n",
       "    .dataframe tbody tr th:only-of-type {\n",
       "        vertical-align: middle;\n",
       "    }\n",
       "\n",
       "    .dataframe tbody tr th {\n",
       "        vertical-align: top;\n",
       "    }\n",
       "\n",
       "    .dataframe thead th {\n",
       "        text-align: right;\n",
       "    }\n",
       "</style>\n",
       "<table border=\"1\" class=\"dataframe\">\n",
       "  <thead>\n",
       "    <tr style=\"text-align: right;\">\n",
       "      <th></th>\n",
       "      <th>Row ID</th>\n",
       "      <th>Order ID</th>\n",
       "      <th>Order Date</th>\n",
       "      <th>Ship Date</th>\n",
       "      <th>Ship Mode</th>\n",
       "      <th>Customer ID</th>\n",
       "      <th>Customer Name</th>\n",
       "      <th>Segment</th>\n",
       "      <th>City</th>\n",
       "      <th>State</th>\n",
       "      <th>...</th>\n",
       "      <th>Product ID</th>\n",
       "      <th>Category</th>\n",
       "      <th>Sub-Category</th>\n",
       "      <th>Product Name</th>\n",
       "      <th>Sales</th>\n",
       "      <th>Quantity</th>\n",
       "      <th>Discount</th>\n",
       "      <th>Profit</th>\n",
       "      <th>Shipping Cost</th>\n",
       "      <th>Order Priority</th>\n",
       "    </tr>\n",
       "  </thead>\n",
       "  <tbody>\n",
       "    <tr>\n",
       "      <th>0</th>\n",
       "      <td>32298</td>\n",
       "      <td>CA-2012-124891</td>\n",
       "      <td>2012-07-31</td>\n",
       "      <td>2012-07-31</td>\n",
       "      <td>Same Day</td>\n",
       "      <td>RH-19495</td>\n",
       "      <td>Rick Hansen</td>\n",
       "      <td>Consumer</td>\n",
       "      <td>New York City</td>\n",
       "      <td>New York</td>\n",
       "      <td>...</td>\n",
       "      <td>TEC-AC-10003033</td>\n",
       "      <td>Technology</td>\n",
       "      <td>Accessories</td>\n",
       "      <td>Plantronics CS510 - Over-the-Head monaural Wir...</td>\n",
       "      <td>2309.650</td>\n",
       "      <td>7</td>\n",
       "      <td>0.0</td>\n",
       "      <td>762.1845</td>\n",
       "      <td>933.570</td>\n",
       "      <td>Critical</td>\n",
       "    </tr>\n",
       "    <tr>\n",
       "      <th>1</th>\n",
       "      <td>26341</td>\n",
       "      <td>IN-2013-77878</td>\n",
       "      <td>2013-02-05</td>\n",
       "      <td>2013-02-07</td>\n",
       "      <td>Second Class</td>\n",
       "      <td>JR-16210</td>\n",
       "      <td>Justin Ritter</td>\n",
       "      <td>Corporate</td>\n",
       "      <td>Wollongong</td>\n",
       "      <td>New South Wales</td>\n",
       "      <td>...</td>\n",
       "      <td>FUR-CH-10003950</td>\n",
       "      <td>Furniture</td>\n",
       "      <td>Chairs</td>\n",
       "      <td>Novimex Executive Leather Armchair, Black</td>\n",
       "      <td>3709.395</td>\n",
       "      <td>9</td>\n",
       "      <td>0.1</td>\n",
       "      <td>-288.7650</td>\n",
       "      <td>923.630</td>\n",
       "      <td>Critical</td>\n",
       "    </tr>\n",
       "    <tr>\n",
       "      <th>2</th>\n",
       "      <td>25330</td>\n",
       "      <td>IN-2013-71249</td>\n",
       "      <td>2013-10-17</td>\n",
       "      <td>2013-10-18</td>\n",
       "      <td>First Class</td>\n",
       "      <td>CR-12730</td>\n",
       "      <td>Craig Reiter</td>\n",
       "      <td>Consumer</td>\n",
       "      <td>Brisbane</td>\n",
       "      <td>Queensland</td>\n",
       "      <td>...</td>\n",
       "      <td>TEC-PH-10004664</td>\n",
       "      <td>Technology</td>\n",
       "      <td>Phones</td>\n",
       "      <td>Nokia Smart Phone, with Caller ID</td>\n",
       "      <td>5175.171</td>\n",
       "      <td>9</td>\n",
       "      <td>0.1</td>\n",
       "      <td>919.9710</td>\n",
       "      <td>915.490</td>\n",
       "      <td>Medium</td>\n",
       "    </tr>\n",
       "    <tr>\n",
       "      <th>3</th>\n",
       "      <td>13524</td>\n",
       "      <td>ES-2013-1579342</td>\n",
       "      <td>2013-01-28</td>\n",
       "      <td>2013-01-30</td>\n",
       "      <td>First Class</td>\n",
       "      <td>KM-16375</td>\n",
       "      <td>Katherine Murray</td>\n",
       "      <td>Home Office</td>\n",
       "      <td>Berlin</td>\n",
       "      <td>Berlin</td>\n",
       "      <td>...</td>\n",
       "      <td>TEC-PH-10004583</td>\n",
       "      <td>Technology</td>\n",
       "      <td>Phones</td>\n",
       "      <td>Motorola Smart Phone, Cordless</td>\n",
       "      <td>2892.510</td>\n",
       "      <td>5</td>\n",
       "      <td>0.1</td>\n",
       "      <td>-96.5400</td>\n",
       "      <td>910.160</td>\n",
       "      <td>Medium</td>\n",
       "    </tr>\n",
       "    <tr>\n",
       "      <th>4</th>\n",
       "      <td>47221</td>\n",
       "      <td>SG-2013-4320</td>\n",
       "      <td>2013-11-05</td>\n",
       "      <td>2013-11-06</td>\n",
       "      <td>Same Day</td>\n",
       "      <td>RH-9495</td>\n",
       "      <td>Rick Hansen</td>\n",
       "      <td>Consumer</td>\n",
       "      <td>Dakar</td>\n",
       "      <td>Dakar</td>\n",
       "      <td>...</td>\n",
       "      <td>TEC-SHA-10000501</td>\n",
       "      <td>Technology</td>\n",
       "      <td>Copiers</td>\n",
       "      <td>Sharp Wireless Fax, High-Speed</td>\n",
       "      <td>2832.960</td>\n",
       "      <td>8</td>\n",
       "      <td>0.0</td>\n",
       "      <td>311.5200</td>\n",
       "      <td>903.040</td>\n",
       "      <td>Critical</td>\n",
       "    </tr>\n",
       "    <tr>\n",
       "      <th>...</th>\n",
       "      <td>...</td>\n",
       "      <td>...</td>\n",
       "      <td>...</td>\n",
       "      <td>...</td>\n",
       "      <td>...</td>\n",
       "      <td>...</td>\n",
       "      <td>...</td>\n",
       "      <td>...</td>\n",
       "      <td>...</td>\n",
       "      <td>...</td>\n",
       "      <td>...</td>\n",
       "      <td>...</td>\n",
       "      <td>...</td>\n",
       "      <td>...</td>\n",
       "      <td>...</td>\n",
       "      <td>...</td>\n",
       "      <td>...</td>\n",
       "      <td>...</td>\n",
       "      <td>...</td>\n",
       "      <td>...</td>\n",
       "      <td>...</td>\n",
       "    </tr>\n",
       "    <tr>\n",
       "      <th>51285</th>\n",
       "      <td>29002</td>\n",
       "      <td>IN-2014-62366</td>\n",
       "      <td>2014-06-19</td>\n",
       "      <td>2014-06-19</td>\n",
       "      <td>Same Day</td>\n",
       "      <td>KE-16420</td>\n",
       "      <td>Katrina Edelman</td>\n",
       "      <td>Corporate</td>\n",
       "      <td>Kure</td>\n",
       "      <td>Hiroshima</td>\n",
       "      <td>...</td>\n",
       "      <td>OFF-FA-10000746</td>\n",
       "      <td>Office Supplies</td>\n",
       "      <td>Fasteners</td>\n",
       "      <td>Advantus Thumb Tacks, 12 Pack</td>\n",
       "      <td>65.100</td>\n",
       "      <td>5</td>\n",
       "      <td>0.0</td>\n",
       "      <td>4.5000</td>\n",
       "      <td>0.010</td>\n",
       "      <td>Medium</td>\n",
       "    </tr>\n",
       "    <tr>\n",
       "      <th>51286</th>\n",
       "      <td>35398</td>\n",
       "      <td>US-2014-102288</td>\n",
       "      <td>2014-06-20</td>\n",
       "      <td>2014-06-24</td>\n",
       "      <td>Standard Class</td>\n",
       "      <td>ZC-21910</td>\n",
       "      <td>Zuschuss Carroll</td>\n",
       "      <td>Consumer</td>\n",
       "      <td>Houston</td>\n",
       "      <td>Texas</td>\n",
       "      <td>...</td>\n",
       "      <td>OFF-AP-10002906</td>\n",
       "      <td>Office Supplies</td>\n",
       "      <td>Appliances</td>\n",
       "      <td>Hoover Replacement Belt for Commercial Guardsm...</td>\n",
       "      <td>0.444</td>\n",
       "      <td>1</td>\n",
       "      <td>0.8</td>\n",
       "      <td>-1.1100</td>\n",
       "      <td>0.010</td>\n",
       "      <td>Medium</td>\n",
       "    </tr>\n",
       "    <tr>\n",
       "      <th>51287</th>\n",
       "      <td>40470</td>\n",
       "      <td>US-2013-155768</td>\n",
       "      <td>2013-12-02</td>\n",
       "      <td>2013-12-02</td>\n",
       "      <td>Same Day</td>\n",
       "      <td>LB-16795</td>\n",
       "      <td>Laurel Beltran</td>\n",
       "      <td>Home Office</td>\n",
       "      <td>Oxnard</td>\n",
       "      <td>California</td>\n",
       "      <td>...</td>\n",
       "      <td>OFF-EN-10001219</td>\n",
       "      <td>Office Supplies</td>\n",
       "      <td>Envelopes</td>\n",
       "      <td>#10- 4 1/8\" x 9 1/2\" Security-Tint Envelopes</td>\n",
       "      <td>22.920</td>\n",
       "      <td>3</td>\n",
       "      <td>0.0</td>\n",
       "      <td>11.2308</td>\n",
       "      <td>0.010</td>\n",
       "      <td>High</td>\n",
       "    </tr>\n",
       "    <tr>\n",
       "      <th>51288</th>\n",
       "      <td>9596</td>\n",
       "      <td>MX-2012-140767</td>\n",
       "      <td>2012-02-18</td>\n",
       "      <td>2012-02-22</td>\n",
       "      <td>Standard Class</td>\n",
       "      <td>RB-19795</td>\n",
       "      <td>Ross Baird</td>\n",
       "      <td>Home Office</td>\n",
       "      <td>Valinhos</td>\n",
       "      <td>São Paulo</td>\n",
       "      <td>...</td>\n",
       "      <td>OFF-BI-10000806</td>\n",
       "      <td>Office Supplies</td>\n",
       "      <td>Binders</td>\n",
       "      <td>Acco Index Tab, Economy</td>\n",
       "      <td>13.440</td>\n",
       "      <td>2</td>\n",
       "      <td>0.0</td>\n",
       "      <td>2.4000</td>\n",
       "      <td>0.003</td>\n",
       "      <td>Medium</td>\n",
       "    </tr>\n",
       "    <tr>\n",
       "      <th>51289</th>\n",
       "      <td>6147</td>\n",
       "      <td>MX-2012-134460</td>\n",
       "      <td>2012-05-22</td>\n",
       "      <td>2012-05-26</td>\n",
       "      <td>Second Class</td>\n",
       "      <td>MC-18100</td>\n",
       "      <td>Mick Crebagga</td>\n",
       "      <td>Consumer</td>\n",
       "      <td>Tipitapa</td>\n",
       "      <td>Managua</td>\n",
       "      <td>...</td>\n",
       "      <td>OFF-PA-10004155</td>\n",
       "      <td>Office Supplies</td>\n",
       "      <td>Paper</td>\n",
       "      <td>Eaton Computer Printout Paper, 8.5 x 11</td>\n",
       "      <td>61.380</td>\n",
       "      <td>3</td>\n",
       "      <td>0.0</td>\n",
       "      <td>1.8000</td>\n",
       "      <td>0.002</td>\n",
       "      <td>High</td>\n",
       "    </tr>\n",
       "  </tbody>\n",
       "</table>\n",
       "<p>51290 rows × 24 columns</p>\n",
       "</div>"
      ],
      "text/plain": [
       "       Row ID         Order ID Order Date  Ship Date       Ship Mode  \\\n",
       "0       32298   CA-2012-124891 2012-07-31 2012-07-31        Same Day   \n",
       "1       26341    IN-2013-77878 2013-02-05 2013-02-07    Second Class   \n",
       "2       25330    IN-2013-71249 2013-10-17 2013-10-18     First Class   \n",
       "3       13524  ES-2013-1579342 2013-01-28 2013-01-30     First Class   \n",
       "4       47221     SG-2013-4320 2013-11-05 2013-11-06        Same Day   \n",
       "...       ...              ...        ...        ...             ...   \n",
       "51285   29002    IN-2014-62366 2014-06-19 2014-06-19        Same Day   \n",
       "51286   35398   US-2014-102288 2014-06-20 2014-06-24  Standard Class   \n",
       "51287   40470   US-2013-155768 2013-12-02 2013-12-02        Same Day   \n",
       "51288    9596   MX-2012-140767 2012-02-18 2012-02-22  Standard Class   \n",
       "51289    6147   MX-2012-134460 2012-05-22 2012-05-26    Second Class   \n",
       "\n",
       "      Customer ID     Customer Name      Segment           City  \\\n",
       "0        RH-19495       Rick Hansen     Consumer  New York City   \n",
       "1        JR-16210     Justin Ritter    Corporate     Wollongong   \n",
       "2        CR-12730      Craig Reiter     Consumer       Brisbane   \n",
       "3        KM-16375  Katherine Murray  Home Office         Berlin   \n",
       "4         RH-9495       Rick Hansen     Consumer          Dakar   \n",
       "...           ...               ...          ...            ...   \n",
       "51285    KE-16420   Katrina Edelman    Corporate           Kure   \n",
       "51286    ZC-21910  Zuschuss Carroll     Consumer        Houston   \n",
       "51287    LB-16795    Laurel Beltran  Home Office         Oxnard   \n",
       "51288    RB-19795        Ross Baird  Home Office       Valinhos   \n",
       "51289    MC-18100     Mick Crebagga     Consumer       Tipitapa   \n",
       "\n",
       "                 State  ...        Product ID         Category Sub-Category  \\\n",
       "0             New York  ...   TEC-AC-10003033       Technology  Accessories   \n",
       "1      New South Wales  ...   FUR-CH-10003950        Furniture       Chairs   \n",
       "2           Queensland  ...   TEC-PH-10004664       Technology       Phones   \n",
       "3               Berlin  ...   TEC-PH-10004583       Technology       Phones   \n",
       "4                Dakar  ...  TEC-SHA-10000501       Technology      Copiers   \n",
       "...                ...  ...               ...              ...          ...   \n",
       "51285        Hiroshima  ...   OFF-FA-10000746  Office Supplies    Fasteners   \n",
       "51286            Texas  ...   OFF-AP-10002906  Office Supplies   Appliances   \n",
       "51287       California  ...   OFF-EN-10001219  Office Supplies    Envelopes   \n",
       "51288        São Paulo  ...   OFF-BI-10000806  Office Supplies      Binders   \n",
       "51289          Managua  ...   OFF-PA-10004155  Office Supplies        Paper   \n",
       "\n",
       "                                            Product Name     Sales Quantity  \\\n",
       "0      Plantronics CS510 - Over-the-Head monaural Wir...  2309.650        7   \n",
       "1              Novimex Executive Leather Armchair, Black  3709.395        9   \n",
       "2                      Nokia Smart Phone, with Caller ID  5175.171        9   \n",
       "3                         Motorola Smart Phone, Cordless  2892.510        5   \n",
       "4                         Sharp Wireless Fax, High-Speed  2832.960        8   \n",
       "...                                                  ...       ...      ...   \n",
       "51285                      Advantus Thumb Tacks, 12 Pack    65.100        5   \n",
       "51286  Hoover Replacement Belt for Commercial Guardsm...     0.444        1   \n",
       "51287       #10- 4 1/8\" x 9 1/2\" Security-Tint Envelopes    22.920        3   \n",
       "51288                            Acco Index Tab, Economy    13.440        2   \n",
       "51289            Eaton Computer Printout Paper, 8.5 x 11    61.380        3   \n",
       "\n",
       "      Discount    Profit  Shipping Cost  Order Priority  \n",
       "0          0.0  762.1845        933.570        Critical  \n",
       "1          0.1 -288.7650        923.630        Critical  \n",
       "2          0.1  919.9710        915.490          Medium  \n",
       "3          0.1  -96.5400        910.160          Medium  \n",
       "4          0.0  311.5200        903.040        Critical  \n",
       "...        ...       ...            ...             ...  \n",
       "51285      0.0    4.5000          0.010          Medium  \n",
       "51286      0.8   -1.1100          0.010          Medium  \n",
       "51287      0.0   11.2308          0.010            High  \n",
       "51288      0.0    2.4000          0.003          Medium  \n",
       "51289      0.0    1.8000          0.002            High  \n",
       "\n",
       "[51290 rows x 24 columns]"
      ]
     },
     "execution_count": 2,
     "metadata": {},
     "output_type": "execute_result"
    }
   ],
   "source": [
    "df=pd.read_excel(r\"C:\\Users\\srile\\Downloads\\Copy of Global Superstore (1).xls\")\n",
    "df"
   ]
  },
  {
   "cell_type": "code",
   "execution_count": 3,
   "id": "818409b0-a168-4ec5-a499-739553818be4",
   "metadata": {},
   "outputs": [
    {
     "data": {
      "text/plain": [
       "(51290, 24)"
      ]
     },
     "execution_count": 3,
     "metadata": {},
     "output_type": "execute_result"
    }
   ],
   "source": [
    "df.shape"
   ]
  },
  {
   "cell_type": "code",
   "execution_count": 4,
   "id": "bc4d61db-6520-461c-a5ba-80d854d350e9",
   "metadata": {},
   "outputs": [
    {
     "data": {
      "text/plain": [
       "Index(['Row ID', 'Order ID', 'Order Date', 'Ship Date', 'Ship Mode',\n",
       "       'Customer ID', 'Customer Name', 'Segment', 'City', 'State', 'Country',\n",
       "       'Postal Code', 'Market', 'Region', 'Product ID', 'Category',\n",
       "       'Sub-Category', 'Product Name', 'Sales', 'Quantity', 'Discount',\n",
       "       'Profit', 'Shipping Cost', 'Order Priority'],\n",
       "      dtype='object')"
      ]
     },
     "execution_count": 4,
     "metadata": {},
     "output_type": "execute_result"
    }
   ],
   "source": [
    "df.columns"
   ]
  },
  {
   "cell_type": "markdown",
   "id": "b0bc15fd-81f8-4e80-b817-c6dfeb0b314d",
   "metadata": {},
   "source": [
    "## separation of Continuous variable column and categorical variables"
   ]
  },
  {
   "cell_type": "code",
   "execution_count": 5,
   "id": "ef758504-f98f-44c7-959d-24379a448145",
   "metadata": {},
   "outputs": [],
   "source": [
    "import numpy as np\n",
    "df_num=df.select_dtypes(include=[np.number])\n",
    "df_cat=df.select_dtypes(include=[\"object\"])"
   ]
  },
  {
   "cell_type": "markdown",
   "id": "8ec8fcbc-4e8f-4941-a762-58fd07152d63",
   "metadata": {},
   "source": [
    "## Continuous Variable columns"
   ]
  },
  {
   "cell_type": "code",
   "execution_count": 6,
   "id": "218cc814-30e4-4f22-b168-6c394230d3b0",
   "metadata": {},
   "outputs": [
    {
     "data": {
      "text/plain": [
       "Index(['Row ID', 'Postal Code', 'Sales', 'Quantity', 'Discount', 'Profit',\n",
       "       'Shipping Cost'],\n",
       "      dtype='object')"
      ]
     },
     "execution_count": 6,
     "metadata": {},
     "output_type": "execute_result"
    }
   ],
   "source": [
    "df_num.columns"
   ]
  },
  {
   "cell_type": "markdown",
   "id": "b9e13d75-da80-49e6-b94f-258e5df169ce",
   "metadata": {},
   "source": [
    "## Categorical Variable Columns"
   ]
  },
  {
   "cell_type": "code",
   "execution_count": 7,
   "id": "951063b4-57aa-49c1-98c0-3ebec315f787",
   "metadata": {},
   "outputs": [
    {
     "data": {
      "text/plain": [
       "Index(['Order ID', 'Ship Mode', 'Customer ID', 'Customer Name', 'Segment',\n",
       "       'City', 'State', 'Country', 'Market', 'Region', 'Product ID',\n",
       "       'Category', 'Sub-Category', 'Product Name', 'Order Priority'],\n",
       "      dtype='object')"
      ]
     },
     "execution_count": 7,
     "metadata": {},
     "output_type": "execute_result"
    }
   ],
   "source": [
    "df_cat.columns"
   ]
  },
  {
   "cell_type": "markdown",
   "id": "c43a649b-ac64-4b05-a87b-c3b6f54e29c8",
   "metadata": {},
   "source": [
    "## IMPUTATION-finding the null values"
   ]
  },
  {
   "cell_type": "code",
   "execution_count": 8,
   "id": "65b82a15-d2fc-4ef5-b1b3-ea2eb396c581",
   "metadata": {},
   "outputs": [
    {
     "data": {
      "text/plain": [
       "Row ID               0\n",
       "Postal Code      41296\n",
       "Sales                0\n",
       "Quantity             0\n",
       "Discount             0\n",
       "Profit               0\n",
       "Shipping Cost        0\n",
       "dtype: int64"
      ]
     },
     "execution_count": 8,
     "metadata": {},
     "output_type": "execute_result"
    }
   ],
   "source": [
    "df_num.isnull().sum()"
   ]
  },
  {
   "cell_type": "code",
   "execution_count": 9,
   "id": "d06cc791-1330-4f06-ace0-bd843012734f",
   "metadata": {},
   "outputs": [],
   "source": [
    "df_num1=df_num[['Sales', 'Quantity', 'Discount', 'Profit','Shipping Cost']]\n"
   ]
  },
  {
   "cell_type": "code",
   "execution_count": 10,
   "id": "d1e3f91a-16db-45b9-9f82-7ffc81a69839",
   "metadata": {},
   "outputs": [
    {
     "data": {
      "text/html": [
       "<div>\n",
       "<style scoped>\n",
       "    .dataframe tbody tr th:only-of-type {\n",
       "        vertical-align: middle;\n",
       "    }\n",
       "\n",
       "    .dataframe tbody tr th {\n",
       "        vertical-align: top;\n",
       "    }\n",
       "\n",
       "    .dataframe thead th {\n",
       "        text-align: right;\n",
       "    }\n",
       "</style>\n",
       "<table border=\"1\" class=\"dataframe\">\n",
       "  <thead>\n",
       "    <tr style=\"text-align: right;\">\n",
       "      <th></th>\n",
       "      <th>Sales</th>\n",
       "      <th>Quantity</th>\n",
       "      <th>Discount</th>\n",
       "      <th>Profit</th>\n",
       "      <th>Shipping Cost</th>\n",
       "    </tr>\n",
       "  </thead>\n",
       "  <tbody>\n",
       "    <tr>\n",
       "      <th>0</th>\n",
       "      <td>2309.650</td>\n",
       "      <td>7</td>\n",
       "      <td>0.0</td>\n",
       "      <td>762.1845</td>\n",
       "      <td>933.570</td>\n",
       "    </tr>\n",
       "    <tr>\n",
       "      <th>1</th>\n",
       "      <td>3709.395</td>\n",
       "      <td>9</td>\n",
       "      <td>0.1</td>\n",
       "      <td>-288.7650</td>\n",
       "      <td>923.630</td>\n",
       "    </tr>\n",
       "    <tr>\n",
       "      <th>2</th>\n",
       "      <td>5175.171</td>\n",
       "      <td>9</td>\n",
       "      <td>0.1</td>\n",
       "      <td>919.9710</td>\n",
       "      <td>915.490</td>\n",
       "    </tr>\n",
       "    <tr>\n",
       "      <th>3</th>\n",
       "      <td>2892.510</td>\n",
       "      <td>5</td>\n",
       "      <td>0.1</td>\n",
       "      <td>-96.5400</td>\n",
       "      <td>910.160</td>\n",
       "    </tr>\n",
       "    <tr>\n",
       "      <th>4</th>\n",
       "      <td>2832.960</td>\n",
       "      <td>8</td>\n",
       "      <td>0.0</td>\n",
       "      <td>311.5200</td>\n",
       "      <td>903.040</td>\n",
       "    </tr>\n",
       "    <tr>\n",
       "      <th>...</th>\n",
       "      <td>...</td>\n",
       "      <td>...</td>\n",
       "      <td>...</td>\n",
       "      <td>...</td>\n",
       "      <td>...</td>\n",
       "    </tr>\n",
       "    <tr>\n",
       "      <th>51285</th>\n",
       "      <td>65.100</td>\n",
       "      <td>5</td>\n",
       "      <td>0.0</td>\n",
       "      <td>4.5000</td>\n",
       "      <td>0.010</td>\n",
       "    </tr>\n",
       "    <tr>\n",
       "      <th>51286</th>\n",
       "      <td>0.444</td>\n",
       "      <td>1</td>\n",
       "      <td>0.8</td>\n",
       "      <td>-1.1100</td>\n",
       "      <td>0.010</td>\n",
       "    </tr>\n",
       "    <tr>\n",
       "      <th>51287</th>\n",
       "      <td>22.920</td>\n",
       "      <td>3</td>\n",
       "      <td>0.0</td>\n",
       "      <td>11.2308</td>\n",
       "      <td>0.010</td>\n",
       "    </tr>\n",
       "    <tr>\n",
       "      <th>51288</th>\n",
       "      <td>13.440</td>\n",
       "      <td>2</td>\n",
       "      <td>0.0</td>\n",
       "      <td>2.4000</td>\n",
       "      <td>0.003</td>\n",
       "    </tr>\n",
       "    <tr>\n",
       "      <th>51289</th>\n",
       "      <td>61.380</td>\n",
       "      <td>3</td>\n",
       "      <td>0.0</td>\n",
       "      <td>1.8000</td>\n",
       "      <td>0.002</td>\n",
       "    </tr>\n",
       "  </tbody>\n",
       "</table>\n",
       "<p>51290 rows × 5 columns</p>\n",
       "</div>"
      ],
      "text/plain": [
       "          Sales  Quantity  Discount    Profit  Shipping Cost\n",
       "0      2309.650         7       0.0  762.1845        933.570\n",
       "1      3709.395         9       0.1 -288.7650        923.630\n",
       "2      5175.171         9       0.1  919.9710        915.490\n",
       "3      2892.510         5       0.1  -96.5400        910.160\n",
       "4      2832.960         8       0.0  311.5200        903.040\n",
       "...         ...       ...       ...       ...            ...\n",
       "51285    65.100         5       0.0    4.5000          0.010\n",
       "51286     0.444         1       0.8   -1.1100          0.010\n",
       "51287    22.920         3       0.0   11.2308          0.010\n",
       "51288    13.440         2       0.0    2.4000          0.003\n",
       "51289    61.380         3       0.0    1.8000          0.002\n",
       "\n",
       "[51290 rows x 5 columns]"
      ]
     },
     "execution_count": 10,
     "metadata": {},
     "output_type": "execute_result"
    }
   ],
   "source": [
    "df_num1"
   ]
  },
  {
   "cell_type": "markdown",
   "id": "0f02e9be-0df4-4fcc-ab5f-60a726c04596",
   "metadata": {},
   "source": [
    "## Removing the datapoints which are more than 75% and less than 25"
   ]
  },
  {
   "cell_type": "code",
   "execution_count": 11,
   "id": "225e5b2e-f028-4da9-a96b-fc70cf264430",
   "metadata": {},
   "outputs": [
    {
     "data": {
      "text/plain": [
       "count    51290.000000\n",
       "mean       246.490581\n",
       "std        487.565361\n",
       "min          0.444000\n",
       "25%         30.758625\n",
       "50%         85.053000\n",
       "75%        251.053200\n",
       "max      22638.480000\n",
       "Name: Sales, dtype: float64"
      ]
     },
     "execution_count": 11,
     "metadata": {},
     "output_type": "execute_result"
    }
   ],
   "source": [
    "df_num1[\"Sales\"].describe()"
   ]
  },
  {
   "cell_type": "code",
   "execution_count": 12,
   "id": "f7391cc4-a120-4bd6-bd68-934d9ea8c06d",
   "metadata": {},
   "outputs": [],
   "source": [
    "df_S=df_num1[(df_num1[\"Sales\"]>30.75) & (df_num1[\"Sales\"]<251.05)]"
   ]
  },
  {
   "cell_type": "markdown",
   "id": "53d92e76-a870-49a1-b482-db7f92ebcb13",
   "metadata": {},
   "source": [
    "## Plotting Boxplot after Removal"
   ]
  },
  {
   "cell_type": "code",
   "execution_count": 13,
   "id": "dbfe62f7-94f4-42bc-af14-c8ffb77c4ae3",
   "metadata": {},
   "outputs": [
    {
     "data": {
      "image/png": "[encoded data removed]",
      "text/plain": [
       "<Figure size 640x480 with 1 Axes>"
      ]
     },
     "metadata": {},
     "output_type": "display_data"
    }
   ],
   "source": [
    "sns.boxplot(y=df_S[\"Sales\"])\n",
    "plt.show()"
   ]
  },
  {
   "cell_type": "markdown",
   "id": "f8a5c166-cbc2-4d3c-a355-44c5f199627e",
   "metadata": {},
   "source": [
    "## Removing the datapoints which are more than 75% and less than 25%"
   ]
  },
  {
   "cell_type": "code",
   "execution_count": 14,
   "id": "3356df7b-87a1-4fa5-9a69-bab611c585b8",
   "metadata": {},
   "outputs": [
    {
     "data": {
      "text/plain": [
       "count    25645.000000\n",
       "mean         8.091763\n",
       "std         47.397554\n",
       "min      -1144.116000\n",
       "25%          0.990000\n",
       "50%         12.960000\n",
       "75%         28.080000\n",
       "max        125.280000\n",
       "Name: Profit, dtype: float64"
      ]
     },
     "execution_count": 14,
     "metadata": {},
     "output_type": "execute_result"
    }
   ],
   "source": [
    "df_S[\"Profit\"].describe()"
   ]
  },
  {
   "cell_type": "code",
   "execution_count": 15,
   "id": "22012156-fab0-4dde-9437-ae7a7f104d17",
   "metadata": {},
   "outputs": [],
   "source": [
    "\n",
    "df_P=df_S[(df_S[\"Profit\"]>0.99)&(df_S[\"Profit\"]<28.08)]"
   ]
  },
  {
   "cell_type": "markdown",
   "id": "54f4c35c-4dec-4a56-950f-6e7f0af4a482",
   "metadata": {},
   "source": [
    "## Plotting Boxplot after Removal"
   ]
  },
  {
   "cell_type": "code",
   "execution_count": 16,
   "id": "c02b72a1-6608-4c25-9624-4749cb054a62",
   "metadata": {},
   "outputs": [
    {
     "data": {
      "text/plain": [
       "<Axes: ylabel='Profit'>"
      ]
     },
     "execution_count": 16,
     "metadata": {},
     "output_type": "execute_result"
    }
   ],
   "source": [
    "sns.boxplot(y=df_P[\"Profit\"])"
   ]
  },
  {
   "cell_type": "code",
   "execution_count": 17,
   "id": "c7ec5289-f9c0-4116-bb64-6da9c14e0701",
   "metadata": {},
   "outputs": [
    {
     "data": {
      "image/png": "[encoded data removed]",
      "text/plain": [
       "<Figure size 640x480 with 1 Axes>"
      ]
     },
     "metadata": {},
     "output_type": "display_data"
    }
   ],
   "source": [
    "plt.show()"
   ]
  },
  {
   "cell_type": "markdown",
   "id": "6a299354-a1d3-439e-acd1-4f42d48dfc89",
   "metadata": {},
   "source": [
    "\n",
    "## Removing the datapoints which are more than 75% and less than 25%"
   ]
  },
  {
   "cell_type": "code",
   "execution_count": 18,
   "id": "f45fb01d-d251-44f9-8615-3e262efc693c",
   "metadata": {},
   "outputs": [
    {
     "data": {
      "text/plain": [
       "count    12816.000000\n",
       "mean         8.708104\n",
       "std          8.360567\n",
       "min          0.002000\n",
       "25%          3.590000\n",
       "50%          6.140000\n",
       "75%         10.790000\n",
       "max         99.980000\n",
       "Name: Shipping Cost, dtype: float64"
      ]
     },
     "execution_count": 18,
     "metadata": {},
     "output_type": "execute_result"
    }
   ],
   "source": [
    "\n",
    "df_P[\"Shipping Cost\"].describe()"
   ]
  },
  {
   "cell_type": "code",
   "execution_count": 19,
   "id": "94016f64-7bff-4021-b63d-6b4e52be1120",
   "metadata": {},
   "outputs": [],
   "source": [
    "df_SC=df_P[(df_P[\"Shipping Cost\"]>3.59)&(df_P[\"Shipping Cost\"]<10.79)]"
   ]
  },
  {
   "cell_type": "markdown",
   "id": "9c6f733e-57a7-4467-b8a6-d5ae06c72593",
   "metadata": {},
   "source": [
    "## Plotting Boxplot after Removal"
   ]
  },
  {
   "cell_type": "code",
   "execution_count": 20,
   "id": "7d27fa4f-afb7-43f7-bd0f-7ef3ba2e650b",
   "metadata": {},
   "outputs": [
    {
     "data": {
      "text/plain": [
       "<Axes: ylabel='Shipping Cost'>"
      ]
     },
     "execution_count": 20,
     "metadata": {},
     "output_type": "execute_result"
    }
   ],
   "source": [
    "sns.boxplot(y=df_SC[\"Shipping Cost\"])"
   ]
  },
  {
   "cell_type": "code",
   "execution_count": 21,
   "id": "238661df-13dc-4225-bfde-08ea9a5bf1c7",
   "metadata": {},
   "outputs": [
    {
     "data": {
      "image/png": "[encoded data removed]",
      "text/plain": [
       "<Figure size 640x480 with 1 Axes>"
      ]
     },
     "metadata": {},
     "output_type": "display_data"
    }
   ],
   "source": [
    "plt.show()"
   ]
  },
  {
   "cell_type": "markdown",
   "id": "89b92aa6-e1ca-457a-aff7-ef479127a870",
   "metadata": {},
   "source": [
    "## Standard Scaler"
   ]
  },
  {
   "cell_type": "code",
   "execution_count": 22,
   "id": "5dd137f7-4ccb-4e98-89c2-8f14c2a3f515",
   "metadata": {},
   "outputs": [],
   "source": [
    "\n",
    "from sklearn.preprocessing import StandardScaler"
   ]
  },
  {
   "cell_type": "code",
   "execution_count": 23,
   "id": "722631ba-d3b8-4c31-b374-40df45d947e0",
   "metadata": {},
   "outputs": [],
   "source": [
    "\n",
    "sc=StandardScaler()"
   ]
  },
  {
   "cell_type": "code",
   "execution_count": 24,
   "id": "a03068f7-1db2-413e-a69f-b728c159ad4d",
   "metadata": {},
   "outputs": [],
   "source": [
    "\n",
    "sco=sc.fit(df_SC)"
   ]
  },
  {
   "cell_type": "code",
   "execution_count": 25,
   "id": "9debee8d-506c-43fc-9f9c-1fca1a72e9f5",
   "metadata": {},
   "outputs": [],
   "source": [
    "\n",
    "df_num_standard_scaler=sco.fit_transform(df_SC)"
   ]
  },
  {
   "cell_type": "code",
   "execution_count": 26,
   "id": "954a1863-a014-4a57-8670-9272451e9c15",
   "metadata": {},
   "outputs": [
    {
     "data": {
      "text/plain": [
       "<Axes: >"
      ]
     },
     "execution_count": 26,
     "metadata": {},
     "output_type": "execute_result"
    }
   ],
   "source": [
    "sns.boxplot(df_num_standard_scaler)"
   ]
  },
  {
   "cell_type": "code",
   "execution_count": 27,
   "id": "a9e567d3-a7a3-468c-ac29-c39a7747295b",
   "metadata": {},
   "outputs": [
    {
     "data": {
      "image/png": "[encoded data removed]",
      "text/plain": [
       "<Figure size 640x480 with 1 Axes>"
      ]
     },
     "metadata": {},
     "output_type": "display_data"
    }
   ],
   "source": [
    "plt.show()"
   ]
  },
  {
   "cell_type": "markdown",
   "id": "63450253-a8aa-4a4b-9a9a-a9388f587de7",
   "metadata": {},
   "source": [
    "## MinMax Scaler"
   ]
  },
  {
   "cell_type": "code",
   "execution_count": 28,
   "id": "9912c634-dc8e-44af-928c-5d33a03ecb2b",
   "metadata": {},
   "outputs": [],
   "source": [
    "from sklearn.preprocessing import MinMaxScaler"
   ]
  },
  {
   "cell_type": "code",
   "execution_count": 29,
   "id": "b749afbe-0733-45b0-a6f7-fe6a79f57d76",
   "metadata": {},
   "outputs": [],
   "source": [
    "mms=MinMaxScaler()"
   ]
  },
  {
   "cell_type": "code",
   "execution_count": 30,
   "id": "0ef5a3bd-815a-4313-b3c3-764a5c71657f",
   "metadata": {},
   "outputs": [],
   "source": [
    "\n",
    "mmso=mms.fit(df_SC)"
   ]
  },
  {
   "cell_type": "code",
   "execution_count": 31,
   "id": "67bd504f-a820-4d17-80f0-371cee8434bd",
   "metadata": {},
   "outputs": [],
   "source": [
    "df_num_minmax_scaler=mmso.fit_transform(df_SC)"
   ]
  },
  {
   "cell_type": "code",
   "execution_count": 32,
   "id": "20274c89-5858-405d-a2fd-f7633604aa3e",
   "metadata": {},
   "outputs": [
    {
     "data": {
      "text/plain": [
       "<Axes: >"
      ]
     },
     "execution_count": 32,
     "metadata": {},
     "output_type": "execute_result"
    }
   ],
   "source": [
    "sns.boxplot(df_num_minmax_scaler)"
   ]
  },
  {
   "cell_type": "code",
   "execution_count": 33,
   "id": "8a7f3e8e-a7b6-4b5f-b9ac-8b9c52637bcd",
   "metadata": {},
   "outputs": [
    {
     "data": {
      "image/png": "[encoded data removed]",
      "text/plain": [
       "<Figure size 640x480 with 1 Axes>"
      ]
     },
     "metadata": {},
     "output_type": "display_data"
    }
   ],
   "source": [
    "plt.show()"
   ]
  },
  {
   "cell_type": "markdown",
   "id": "bb165ff9-f3ef-4892-a0bd-1a375b65e116",
   "metadata": {},
   "source": [
    "## Categorical Variable columns"
   ]
  },
  {
   "cell_type": "code",
   "execution_count": 34,
   "id": "c09ef84e-b595-4bb2-b027-de837f64b1a9",
   "metadata": {},
   "outputs": [
    {
     "data": {
      "text/plain": [
       "Index(['Order ID', 'Ship Mode', 'Customer ID', 'Customer Name', 'Segment',\n",
       "       'City', 'State', 'Country', 'Market', 'Region', 'Product ID',\n",
       "       'Category', 'Sub-Category', 'Product Name', 'Order Priority'],\n",
       "      dtype='object')"
      ]
     },
     "execution_count": 34,
     "metadata": {},
     "output_type": "execute_result"
    }
   ],
   "source": [
    "df_cat.columns"
   ]
  },
  {
   "cell_type": "markdown",
   "id": "146a9569-4cb0-4085-a587-c6de33352419",
   "metadata": {},
   "source": [
    "## Finding Null values in categorical variables"
   ]
  },
  {
   "cell_type": "code",
   "execution_count": 35,
   "id": "fde26b47-fd10-4d28-b8ea-b8fb127f25cb",
   "metadata": {},
   "outputs": [
    {
     "data": {
      "text/plain": [
       "Order ID          0\n",
       "Ship Mode         0\n",
       "Customer ID       0\n",
       "Customer Name     0\n",
       "Segment           0\n",
       "City              0\n",
       "State             0\n",
       "Country           0\n",
       "Market            0\n",
       "Region            0\n",
       "Product ID        0\n",
       "Category          0\n",
       "Sub-Category      0\n",
       "Product Name      0\n",
       "Order Priority    0\n",
       "dtype: int64"
      ]
     },
     "execution_count": 35,
     "metadata": {},
     "output_type": "execute_result"
    }
   ],
   "source": [
    "df_cat.isnull().sum()"
   ]
  },
  {
   "cell_type": "markdown",
   "id": "bd59043a-9ed2-43e4-94b8-62207b2daa22",
   "metadata": {},
   "source": [
    "## Checking values"
   ]
  },
  {
   "cell_type": "code",
   "execution_count": 36,
   "id": "1b7c0afe-564e-4095-83ac-5472042efe26",
   "metadata": {},
   "outputs": [
    {
     "data": {
      "text/plain": [
       "Order ID          25035\n",
       "Ship Mode             4\n",
       "Customer ID        1590\n",
       "Customer Name       795\n",
       "Segment               3\n",
       "City               3636\n",
       "State              1094\n",
       "Country             147\n",
       "Market                7\n",
       "Region               13\n",
       "Product ID        10292\n",
       "Category              3\n",
       "Sub-Category         17\n",
       "Product Name       3788\n",
       "Order Priority        4\n",
       "dtype: int64"
      ]
     },
     "execution_count": 36,
     "metadata": {},
     "output_type": "execute_result"
    }
   ],
   "source": [
    "df_cat[['Order ID', 'Ship Mode', 'Customer ID', 'Customer Name', 'Segment',\n",
    "       'City', 'State', 'Country', 'Market', 'Region', 'Product ID',\n",
    "       'Category', 'Sub-Category', 'Product Name', 'Order Priority']].nunique()\n"
   ]
  },
  {
   "cell_type": "markdown",
   "id": "7d2021dd-fa69-488b-9c0c-a480f5442de6",
   "metadata": {},
   "source": [
    "## Label Encoding"
   ]
  },
  {
   "cell_type": "code",
   "execution_count": 37,
   "id": "ac3c359c-f656-4ff6-b3a6-b83cd6a47818",
   "metadata": {},
   "outputs": [],
   "source": [
    "from sklearn.preprocessing import LabelEncoder"
   ]
  },
  {
   "cell_type": "code",
   "execution_count": 38,
   "id": "5de60f78-b625-4cd5-95e7-779dcb483421",
   "metadata": {},
   "outputs": [],
   "source": [
    "le=LabelEncoder()"
   ]
  },
  {
   "cell_type": "code",
   "execution_count": 39,
   "id": "010d5e4c-bc17-41d2-b979-0cd1d8eab957",
   "metadata": {},
   "outputs": [],
   "source": [
    "df_cat=df_cat.apply(le.fit_transform)"
   ]
  },
  {
   "cell_type": "markdown",
   "id": "47b3e4dd-2fa7-4b3c-993b-81679726c923",
   "metadata": {},
   "source": [
    "df_cat.head()"
   ]
  },
  {
   "cell_type": "code",
   "execution_count": 40,
   "id": "fe647204-34ed-42d6-9f9d-577e5988f75a",
   "metadata": {},
   "outputs": [
    {
     "data": {
      "text/plain": [
       "(6406, 5)"
      ]
     },
     "execution_count": 40,
     "metadata": {},
     "output_type": "execute_result"
    }
   ],
   "source": [
    "df_SC.shape"
   ]
  },
  {
   "cell_type": "code",
   "execution_count": 41,
   "id": "0c4b82aa-16b8-449e-a997-46e9a524f049",
   "metadata": {},
   "outputs": [],
   "source": [
    "df_cat=df_cat.loc[df_SC.index.values,:]"
   ]
  },
  {
   "cell_type": "markdown",
   "id": "f7d169b3-9dad-44b6-aeb5-ec6fa56cd6fe",
   "metadata": {},
   "source": [
    "## Concatenate Numerical Values and Categorical values"
   ]
  },
  {
   "cell_type": "code",
   "execution_count": 42,
   "id": "090bfc23-bd32-4774-bc4c-0d77de6f6743",
   "metadata": {},
   "outputs": [],
   "source": [
    "d1=pd.DataFrame(df_num_standard_scaler,columns=df_num1.columns)"
   ]
  },
  {
   "cell_type": "code",
   "execution_count": 43,
   "id": "8a65690a-4516-43d5-9811-302c955fe724",
   "metadata": {},
   "outputs": [],
   "source": [
    "\n",
    "d1.reset_index(inplace=True)"
   ]
  },
  {
   "cell_type": "code",
   "execution_count": 44,
   "id": "43d90d3c-93a5-4ea6-9ede-f0609654a7db",
   "metadata": {},
   "outputs": [],
   "source": [
    "\n",
    "df_cat.reset_index(inplace=True)"
   ]
  },
  {
   "cell_type": "code",
   "execution_count": 45,
   "id": "41614c06-12a0-4cfb-b4f2-1efceda99a88",
   "metadata": {},
   "outputs": [],
   "source": [
    "\n",
    "df_final=pd.concat([d1,df_cat],axis=1)"
   ]
  },
  {
   "cell_type": "code",
   "execution_count": 46,
   "id": "70a0a489-0662-47b0-a5ed-01ed233da8e8",
   "metadata": {},
   "outputs": [
    {
     "data": {
      "text/plain": [
       "(6406, 22)"
      ]
     },
     "execution_count": 46,
     "metadata": {},
     "output_type": "execute_result"
    }
   ],
   "source": [
    "df_final.shape"
   ]
  },
  {
   "cell_type": "code",
   "execution_count": 47,
   "id": "76b45d25-b656-4b99-8bf1-1ea4955030a1",
   "metadata": {},
   "outputs": [
    {
     "data": {
      "text/html": [
       "<div>\n",
       "<style scoped>\n",
       "    .dataframe tbody tr th:only-of-type {\n",
       "        vertical-align: middle;\n",
       "    }\n",
       "\n",
       "    .dataframe tbody tr th {\n",
       "        vertical-align: top;\n",
       "    }\n",
       "\n",
       "    .dataframe thead th {\n",
       "        text-align: right;\n",
       "    }\n",
       "</style>\n",
       "<table border=\"1\" class=\"dataframe\">\n",
       "  <thead>\n",
       "    <tr style=\"text-align: right;\">\n",
       "      <th></th>\n",
       "      <th>index</th>\n",
       "      <th>Sales</th>\n",
       "      <th>Quantity</th>\n",
       "      <th>Discount</th>\n",
       "      <th>Profit</th>\n",
       "      <th>Shipping Cost</th>\n",
       "      <th>index</th>\n",
       "      <th>Order ID</th>\n",
       "      <th>Ship Mode</th>\n",
       "      <th>Customer ID</th>\n",
       "      <th>...</th>\n",
       "      <th>City</th>\n",
       "      <th>State</th>\n",
       "      <th>Country</th>\n",
       "      <th>Market</th>\n",
       "      <th>Region</th>\n",
       "      <th>Product ID</th>\n",
       "      <th>Category</th>\n",
       "      <th>Sub-Category</th>\n",
       "      <th>Product Name</th>\n",
       "      <th>Order Priority</th>\n",
       "    </tr>\n",
       "  </thead>\n",
       "  <tbody>\n",
       "    <tr>\n",
       "      <th>0</th>\n",
       "      <td>0</td>\n",
       "      <td>-0.408607</td>\n",
       "      <td>-0.135049</td>\n",
       "      <td>-0.472037</td>\n",
       "      <td>1.569088</td>\n",
       "      <td>2.217861</td>\n",
       "      <td>21750</td>\n",
       "      <td>18747</td>\n",
       "      <td>0</td>\n",
       "      <td>1043</td>\n",
       "      <td>...</td>\n",
       "      <td>2710</td>\n",
       "      <td>837</td>\n",
       "      <td>17</td>\n",
       "      <td>5</td>\n",
       "      <td>10</td>\n",
       "      <td>6503</td>\n",
       "      <td>1</td>\n",
       "      <td>12</td>\n",
       "      <td>1303</td>\n",
       "      <td>1</td>\n",
       "    </tr>\n",
       "    <tr>\n",
       "      <th>1</th>\n",
       "      <td>1</td>\n",
       "      <td>1.990749</td>\n",
       "      <td>-0.135049</td>\n",
       "      <td>-0.472037</td>\n",
       "      <td>1.017641</td>\n",
       "      <td>2.215309</td>\n",
       "      <td>21753</td>\n",
       "      <td>5730</td>\n",
       "      <td>3</td>\n",
       "      <td>87</td>\n",
       "      <td>...</td>\n",
       "      <td>3342</td>\n",
       "      <td>833</td>\n",
       "      <td>44</td>\n",
       "      <td>4</td>\n",
       "      <td>3</td>\n",
       "      <td>2985</td>\n",
       "      <td>1</td>\n",
       "      <td>2</td>\n",
       "      <td>653</td>\n",
       "      <td>3</td>\n",
       "    </tr>\n",
       "    <tr>\n",
       "      <th>2</th>\n",
       "      <td>2</td>\n",
       "      <td>4.111351</td>\n",
       "      <td>1.830026</td>\n",
       "      <td>1.715227</td>\n",
       "      <td>1.436335</td>\n",
       "      <td>2.215309</td>\n",
       "      <td>21756</td>\n",
       "      <td>4406</td>\n",
       "      <td>3</td>\n",
       "      <td>263</td>\n",
       "      <td>...</td>\n",
       "      <td>772</td>\n",
       "      <td>742</td>\n",
       "      <td>139</td>\n",
       "      <td>6</td>\n",
       "      <td>6</td>\n",
       "      <td>2765</td>\n",
       "      <td>1</td>\n",
       "      <td>1</td>\n",
       "      <td>1445</td>\n",
       "      <td>3</td>\n",
       "    </tr>\n",
       "    <tr>\n",
       "      <th>3</th>\n",
       "      <td>3</td>\n",
       "      <td>-0.249054</td>\n",
       "      <td>0.356220</td>\n",
       "      <td>-0.472037</td>\n",
       "      <td>-0.215005</td>\n",
       "      <td>2.215309</td>\n",
       "      <td>21760</td>\n",
       "      <td>21660</td>\n",
       "      <td>2</td>\n",
       "      <td>219</td>\n",
       "      <td>...</td>\n",
       "      <td>2597</td>\n",
       "      <td>348</td>\n",
       "      <td>116</td>\n",
       "      <td>1</td>\n",
       "      <td>0</td>\n",
       "      <td>4730</td>\n",
       "      <td>1</td>\n",
       "      <td>12</td>\n",
       "      <td>1315</td>\n",
       "      <td>1</td>\n",
       "    </tr>\n",
       "    <tr>\n",
       "      <th>4</th>\n",
       "      <td>4</td>\n",
       "      <td>2.440791</td>\n",
       "      <td>-0.135049</td>\n",
       "      <td>-0.472037</td>\n",
       "      <td>-1.184091</td>\n",
       "      <td>2.210205</td>\n",
       "      <td>21763</td>\n",
       "      <td>6108</td>\n",
       "      <td>3</td>\n",
       "      <td>780</td>\n",
       "      <td>...</td>\n",
       "      <td>815</td>\n",
       "      <td>311</td>\n",
       "      <td>138</td>\n",
       "      <td>4</td>\n",
       "      <td>7</td>\n",
       "      <td>3069</td>\n",
       "      <td>1</td>\n",
       "      <td>2</td>\n",
       "      <td>709</td>\n",
       "      <td>3</td>\n",
       "    </tr>\n",
       "  </tbody>\n",
       "</table>\n",
       "<p>5 rows × 22 columns</p>\n",
       "</div>"
      ],
      "text/plain": [
       "   index     Sales  Quantity  Discount    Profit  Shipping Cost  index  \\\n",
       "0      0 -0.408607 -0.135049 -0.472037  1.569088       2.217861  21750   \n",
       "1      1  1.990749 -0.135049 -0.472037  1.017641       2.215309  21753   \n",
       "2      2  4.111351  1.830026  1.715227  1.436335       2.215309  21756   \n",
       "3      3 -0.249054  0.356220 -0.472037 -0.215005       2.215309  21760   \n",
       "4      4  2.440791 -0.135049 -0.472037 -1.184091       2.210205  21763   \n",
       "\n",
       "   Order ID  Ship Mode  Customer ID  ...  City  State  Country  Market  \\\n",
       "0     18747          0         1043  ...  2710    837       17       5   \n",
       "1      5730          3           87  ...  3342    833       44       4   \n",
       "2      4406          3          263  ...   772    742      139       6   \n",
       "3     21660          2          219  ...  2597    348      116       1   \n",
       "4      6108          3          780  ...   815    311      138       4   \n",
       "\n",
       "   Region  Product ID  Category  Sub-Category  Product Name  Order Priority  \n",
       "0      10        6503         1            12          1303               1  \n",
       "1       3        2985         1             2           653               3  \n",
       "2       6        2765         1             1          1445               3  \n",
       "3       0        4730         1            12          1315               1  \n",
       "4       7        3069         1             2           709               3  \n",
       "\n",
       "[5 rows x 22 columns]"
      ]
     },
     "execution_count": 47,
     "metadata": {},
     "output_type": "execute_result"
    }
   ],
   "source": [
    "df_final.head()"
   ]
  },
  {
   "cell_type": "markdown",
   "id": "57d7d4e7-2d5a-40bc-af26-e155af2c7548",
   "metadata": {},
   "source": [
    "## Final DataSet"
   ]
  },
  {
   "cell_type": "code",
   "execution_count": 48,
   "id": "84077d96-ec9b-47fa-b6f8-7f70965f75a5",
   "metadata": {},
   "outputs": [
    {
     "data": {
      "text/html": [
       "<div>\n",
       "<style scoped>\n",
       "    .dataframe tbody tr th:only-of-type {\n",
       "        vertical-align: middle;\n",
       "    }\n",
       "\n",
       "    .dataframe tbody tr th {\n",
       "        vertical-align: top;\n",
       "    }\n",
       "\n",
       "    .dataframe thead th {\n",
       "        text-align: right;\n",
       "    }\n",
       "</style>\n",
       "<table border=\"1\" class=\"dataframe\">\n",
       "  <thead>\n",
       "    <tr style=\"text-align: right;\">\n",
       "      <th></th>\n",
       "      <th>index</th>\n",
       "      <th>Sales</th>\n",
       "      <th>Quantity</th>\n",
       "      <th>Discount</th>\n",
       "      <th>Profit</th>\n",
       "      <th>Shipping Cost</th>\n",
       "      <th>index</th>\n",
       "      <th>Order ID</th>\n",
       "      <th>Ship Mode</th>\n",
       "      <th>Customer ID</th>\n",
       "      <th>...</th>\n",
       "      <th>City</th>\n",
       "      <th>State</th>\n",
       "      <th>Country</th>\n",
       "      <th>Market</th>\n",
       "      <th>Region</th>\n",
       "      <th>Product ID</th>\n",
       "      <th>Category</th>\n",
       "      <th>Sub-Category</th>\n",
       "      <th>Product Name</th>\n",
       "      <th>Order Priority</th>\n",
       "    </tr>\n",
       "  </thead>\n",
       "  <tbody>\n",
       "    <tr>\n",
       "      <th>0</th>\n",
       "      <td>0</td>\n",
       "      <td>-0.408607</td>\n",
       "      <td>-0.135049</td>\n",
       "      <td>-0.472037</td>\n",
       "      <td>1.569088</td>\n",
       "      <td>2.217861</td>\n",
       "      <td>21750</td>\n",
       "      <td>18747</td>\n",
       "      <td>0</td>\n",
       "      <td>1043</td>\n",
       "      <td>...</td>\n",
       "      <td>2710</td>\n",
       "      <td>837</td>\n",
       "      <td>17</td>\n",
       "      <td>5</td>\n",
       "      <td>10</td>\n",
       "      <td>6503</td>\n",
       "      <td>1</td>\n",
       "      <td>12</td>\n",
       "      <td>1303</td>\n",
       "      <td>1</td>\n",
       "    </tr>\n",
       "    <tr>\n",
       "      <th>1</th>\n",
       "      <td>1</td>\n",
       "      <td>1.990749</td>\n",
       "      <td>-0.135049</td>\n",
       "      <td>-0.472037</td>\n",
       "      <td>1.017641</td>\n",
       "      <td>2.215309</td>\n",
       "      <td>21753</td>\n",
       "      <td>5730</td>\n",
       "      <td>3</td>\n",
       "      <td>87</td>\n",
       "      <td>...</td>\n",
       "      <td>3342</td>\n",
       "      <td>833</td>\n",
       "      <td>44</td>\n",
       "      <td>4</td>\n",
       "      <td>3</td>\n",
       "      <td>2985</td>\n",
       "      <td>1</td>\n",
       "      <td>2</td>\n",
       "      <td>653</td>\n",
       "      <td>3</td>\n",
       "    </tr>\n",
       "    <tr>\n",
       "      <th>2</th>\n",
       "      <td>2</td>\n",
       "      <td>4.111351</td>\n",
       "      <td>1.830026</td>\n",
       "      <td>1.715227</td>\n",
       "      <td>1.436335</td>\n",
       "      <td>2.215309</td>\n",
       "      <td>21756</td>\n",
       "      <td>4406</td>\n",
       "      <td>3</td>\n",
       "      <td>263</td>\n",
       "      <td>...</td>\n",
       "      <td>772</td>\n",
       "      <td>742</td>\n",
       "      <td>139</td>\n",
       "      <td>6</td>\n",
       "      <td>6</td>\n",
       "      <td>2765</td>\n",
       "      <td>1</td>\n",
       "      <td>1</td>\n",
       "      <td>1445</td>\n",
       "      <td>3</td>\n",
       "    </tr>\n",
       "    <tr>\n",
       "      <th>3</th>\n",
       "      <td>3</td>\n",
       "      <td>-0.249054</td>\n",
       "      <td>0.356220</td>\n",
       "      <td>-0.472037</td>\n",
       "      <td>-0.215005</td>\n",
       "      <td>2.215309</td>\n",
       "      <td>21760</td>\n",
       "      <td>21660</td>\n",
       "      <td>2</td>\n",
       "      <td>219</td>\n",
       "      <td>...</td>\n",
       "      <td>2597</td>\n",
       "      <td>348</td>\n",
       "      <td>116</td>\n",
       "      <td>1</td>\n",
       "      <td>0</td>\n",
       "      <td>4730</td>\n",
       "      <td>1</td>\n",
       "      <td>12</td>\n",
       "      <td>1315</td>\n",
       "      <td>1</td>\n",
       "    </tr>\n",
       "    <tr>\n",
       "      <th>4</th>\n",
       "      <td>4</td>\n",
       "      <td>2.440791</td>\n",
       "      <td>-0.135049</td>\n",
       "      <td>-0.472037</td>\n",
       "      <td>-1.184091</td>\n",
       "      <td>2.210205</td>\n",
       "      <td>21763</td>\n",
       "      <td>6108</td>\n",
       "      <td>3</td>\n",
       "      <td>780</td>\n",
       "      <td>...</td>\n",
       "      <td>815</td>\n",
       "      <td>311</td>\n",
       "      <td>138</td>\n",
       "      <td>4</td>\n",
       "      <td>7</td>\n",
       "      <td>3069</td>\n",
       "      <td>1</td>\n",
       "      <td>2</td>\n",
       "      <td>709</td>\n",
       "      <td>3</td>\n",
       "    </tr>\n",
       "    <tr>\n",
       "      <th>...</th>\n",
       "      <td>...</td>\n",
       "      <td>...</td>\n",
       "      <td>...</td>\n",
       "      <td>...</td>\n",
       "      <td>...</td>\n",
       "      <td>...</td>\n",
       "      <td>...</td>\n",
       "      <td>...</td>\n",
       "      <td>...</td>\n",
       "      <td>...</td>\n",
       "      <td>...</td>\n",
       "      <td>...</td>\n",
       "      <td>...</td>\n",
       "      <td>...</td>\n",
       "      <td>...</td>\n",
       "      <td>...</td>\n",
       "      <td>...</td>\n",
       "      <td>...</td>\n",
       "      <td>...</td>\n",
       "      <td>...</td>\n",
       "      <td>...</td>\n",
       "    </tr>\n",
       "    <tr>\n",
       "      <th>6401</th>\n",
       "      <td>6401</td>\n",
       "      <td>-0.372187</td>\n",
       "      <td>-0.135049</td>\n",
       "      <td>-0.472037</td>\n",
       "      <td>0.466194</td>\n",
       "      <td>-1.450420</td>\n",
       "      <td>34964</td>\n",
       "      <td>16574</td>\n",
       "      <td>3</td>\n",
       "      <td>875</td>\n",
       "      <td>...</td>\n",
       "      <td>477</td>\n",
       "      <td>955</td>\n",
       "      <td>17</td>\n",
       "      <td>5</td>\n",
       "      <td>10</td>\n",
       "      <td>3097</td>\n",
       "      <td>1</td>\n",
       "      <td>2</td>\n",
       "      <td>3070</td>\n",
       "      <td>3</td>\n",
       "    </tr>\n",
       "    <tr>\n",
       "      <th>6402</th>\n",
       "      <td>6402</td>\n",
       "      <td>-0.209166</td>\n",
       "      <td>-0.135049</td>\n",
       "      <td>-0.472037</td>\n",
       "      <td>1.974563</td>\n",
       "      <td>-1.450930</td>\n",
       "      <td>34965</td>\n",
       "      <td>16710</td>\n",
       "      <td>3</td>\n",
       "      <td>1152</td>\n",
       "      <td>...</td>\n",
       "      <td>2604</td>\n",
       "      <td>808</td>\n",
       "      <td>81</td>\n",
       "      <td>5</td>\n",
       "      <td>7</td>\n",
       "      <td>7496</td>\n",
       "      <td>1</td>\n",
       "      <td>15</td>\n",
       "      <td>143</td>\n",
       "      <td>3</td>\n",
       "    </tr>\n",
       "    <tr>\n",
       "      <th>6403</th>\n",
       "      <td>6403</td>\n",
       "      <td>-0.372187</td>\n",
       "      <td>-0.135049</td>\n",
       "      <td>-0.472037</td>\n",
       "      <td>1.877249</td>\n",
       "      <td>-1.451440</td>\n",
       "      <td>34966</td>\n",
       "      <td>18333</td>\n",
       "      <td>2</td>\n",
       "      <td>860</td>\n",
       "      <td>...</td>\n",
       "      <td>3435</td>\n",
       "      <td>320</td>\n",
       "      <td>17</td>\n",
       "      <td>5</td>\n",
       "      <td>10</td>\n",
       "      <td>3167</td>\n",
       "      <td>1</td>\n",
       "      <td>2</td>\n",
       "      <td>499</td>\n",
       "      <td>3</td>\n",
       "    </tr>\n",
       "    <tr>\n",
       "      <th>6404</th>\n",
       "      <td>6404</td>\n",
       "      <td>-1.034676</td>\n",
       "      <td>-0.135049</td>\n",
       "      <td>-0.472037</td>\n",
       "      <td>-1.382774</td>\n",
       "      <td>-1.452461</td>\n",
       "      <td>34967</td>\n",
       "      <td>17982</td>\n",
       "      <td>3</td>\n",
       "      <td>242</td>\n",
       "      <td>...</td>\n",
       "      <td>432</td>\n",
       "      <td>846</td>\n",
       "      <td>17</td>\n",
       "      <td>5</td>\n",
       "      <td>10</td>\n",
       "      <td>1511</td>\n",
       "      <td>0</td>\n",
       "      <td>9</td>\n",
       "      <td>3412</td>\n",
       "      <td>3</td>\n",
       "    </tr>\n",
       "    <tr>\n",
       "      <th>6405</th>\n",
       "      <td>6405</td>\n",
       "      <td>-1.117921</td>\n",
       "      <td>-1.117587</td>\n",
       "      <td>-0.472037</td>\n",
       "      <td>-1.023252</td>\n",
       "      <td>-1.452972</td>\n",
       "      <td>34970</td>\n",
       "      <td>17823</td>\n",
       "      <td>3</td>\n",
       "      <td>32</td>\n",
       "      <td>...</td>\n",
       "      <td>494</td>\n",
       "      <td>854</td>\n",
       "      <td>11</td>\n",
       "      <td>5</td>\n",
       "      <td>2</td>\n",
       "      <td>6401</td>\n",
       "      <td>1</td>\n",
       "      <td>12</td>\n",
       "      <td>2999</td>\n",
       "      <td>2</td>\n",
       "    </tr>\n",
       "  </tbody>\n",
       "</table>\n",
       "<p>6406 rows × 22 columns</p>\n",
       "</div>"
      ],
      "text/plain": [
       "      index     Sales  Quantity  Discount    Profit  Shipping Cost  index  \\\n",
       "0         0 -0.408607 -0.135049 -0.472037  1.569088       2.217861  21750   \n",
       "1         1  1.990749 -0.135049 -0.472037  1.017641       2.215309  21753   \n",
       "2         2  4.111351  1.830026  1.715227  1.436335       2.215309  21756   \n",
       "3         3 -0.249054  0.356220 -0.472037 -0.215005       2.215309  21760   \n",
       "4         4  2.440791 -0.135049 -0.472037 -1.184091       2.210205  21763   \n",
       "...     ...       ...       ...       ...       ...            ...    ...   \n",
       "6401   6401 -0.372187 -0.135049 -0.472037  0.466194      -1.450420  34964   \n",
       "6402   6402 -0.209166 -0.135049 -0.472037  1.974563      -1.450930  34965   \n",
       "6403   6403 -0.372187 -0.135049 -0.472037  1.877249      -1.451440  34966   \n",
       "6404   6404 -1.034676 -0.135049 -0.472037 -1.382774      -1.452461  34967   \n",
       "6405   6405 -1.117921 -1.117587 -0.472037 -1.023252      -1.452972  34970   \n",
       "\n",
       "      Order ID  Ship Mode  Customer ID  ...  City  State  Country  Market  \\\n",
       "0        18747          0         1043  ...  2710    837       17       5   \n",
       "1         5730          3           87  ...  3342    833       44       4   \n",
       "2         4406          3          263  ...   772    742      139       6   \n",
       "3        21660          2          219  ...  2597    348      116       1   \n",
       "4         6108          3          780  ...   815    311      138       4   \n",
       "...        ...        ...          ...  ...   ...    ...      ...     ...   \n",
       "6401     16574          3          875  ...   477    955       17       5   \n",
       "6402     16710          3         1152  ...  2604    808       81       5   \n",
       "6403     18333          2          860  ...  3435    320       17       5   \n",
       "6404     17982          3          242  ...   432    846       17       5   \n",
       "6405     17823          3           32  ...   494    854       11       5   \n",
       "\n",
       "      Region  Product ID  Category  Sub-Category  Product Name  Order Priority  \n",
       "0         10        6503         1            12          1303               1  \n",
       "1          3        2985         1             2           653               3  \n",
       "2          6        2765         1             1          1445               3  \n",
       "3          0        4730         1            12          1315               1  \n",
       "4          7        3069         1             2           709               3  \n",
       "...      ...         ...       ...           ...           ...             ...  \n",
       "6401      10        3097         1             2          3070               3  \n",
       "6402       7        7496         1            15           143               3  \n",
       "6403      10        3167         1             2           499               3  \n",
       "6404      10        1511         0             9          3412               3  \n",
       "6405       2        6401         1            12          2999               2  \n",
       "\n",
       "[6406 rows x 22 columns]"
      ]
     },
     "execution_count": 48,
     "metadata": {},
     "output_type": "execute_result"
    }
   ],
   "source": [
    "df_final"
   ]
  },
  {
   "cell_type": "markdown",
   "id": "3f0cbaad-55e3-4a73-8490-2585b2e3abe8",
   "metadata": {},
   "source": [
    "## Model Training"
   ]
  },
  {
   "cell_type": "code",
   "execution_count": 49,
   "id": "ade064f5-d01e-4d89-bd79-e59f26704681",
   "metadata": {},
   "outputs": [],
   "source": [
    "Y=df_final[\"Sales\"]"
   ]
  },
  {
   "cell_type": "code",
   "execution_count": 50,
   "id": "b41b770d-b16d-46d9-a316-53af5d0a2e03",
   "metadata": {},
   "outputs": [],
   "source": [
    "X=df_final.drop([\"Sales\"],axis=1)"
   ]
  },
  {
   "cell_type": "markdown",
   "id": "379f611c-0f68-4ec2-9cae-9d351cea2665",
   "metadata": {},
   "source": [
    "## Spliting the Data for Training(70%) and Testing(30%)"
   ]
  },
  {
   "cell_type": "code",
   "execution_count": 51,
   "id": "bd55ded6-569b-45b8-8a05-c2bfa6315fe5",
   "metadata": {},
   "outputs": [],
   "source": [
    "from sklearn.model_selection import train_test_split\n",
    "X_train,X_test,y_train,y_test=train_test_split(X,Y,test_size=0.3,random_state=1)"
   ]
  },
  {
   "cell_type": "markdown",
   "id": "69cdaf62-aa73-4a47-bfa6-d794f039356c",
   "metadata": {},
   "source": [
    "## LinearRegression Training Score"
   ]
  },
  {
   "cell_type": "code",
   "execution_count": 52,
   "id": "62999305-4603-45e1-86bc-14c5b41bd6cf",
   "metadata": {},
   "outputs": [
    {
     "data": {
      "text/plain": [
       "0.3405251583222093"
      ]
     },
     "execution_count": 52,
     "metadata": {},
     "output_type": "execute_result"
    }
   ],
   "source": [
    "\n",
    "from sklearn.linear_model import LinearRegression\n",
    "linreg=LinearRegression()\n",
    "lm=linreg.fit(X_train,y_train)\n",
    "lm.score(X_train,y_train)"
   ]
  },
  {
   "cell_type": "markdown",
   "id": "a5af8502-0f76-4686-9600-a92a6f3f5255",
   "metadata": {},
   "source": [
    "## DecisionTreeRegressor Training Score"
   ]
  },
  {
   "cell_type": "code",
   "execution_count": 53,
   "id": "e0992233-f1ca-44e6-8ec4-cd3bea5b4973",
   "metadata": {},
   "outputs": [
    {
     "data": {
      "text/plain": [
       "1.0"
      ]
     },
     "execution_count": 53,
     "metadata": {},
     "output_type": "execute_result"
    }
   ],
   "source": [
    "from sklearn.tree import DecisionTreeRegressor\n",
    "dtr=DecisionTreeRegressor(criterion=\"friedman_mse\")\n",
    "dt1=dtr.fit(X_train,y_train)\n",
    "dt1.score(X_train,y_train)"
   ]
  },
  {
   "cell_type": "markdown",
   "id": "9c7ac546-f09b-4b03-875c-f7691554f8f7",
   "metadata": {},
   "source": [
    "## RandomForestRegressor Training Score"
   ]
  },
  {
   "cell_type": "code",
   "execution_count": 54,
   "id": "62ccc9c5-26c3-468b-8727-bc68b6bd0153",
   "metadata": {},
   "outputs": [
    {
     "data": {
      "text/plain": [
       "0.7618867870571963"
      ]
     },
     "execution_count": 54,
     "metadata": {},
     "output_type": "execute_result"
    }
   ],
   "source": [
    "from sklearn.ensemble import RandomForestRegressor\n",
    "rf=RandomForestRegressor(n_estimators=500,max_depth=10)\n",
    "rf1=rf.fit(X_train,y_train)\n",
    "rf1.score(X_train,y_train)"
   ]
  },
  {
   "cell_type": "markdown",
   "id": "ce1ed0ca-0bca-4e6f-a5c5-8d2ec1f92b37",
   "metadata": {},
   "source": [
    "## Model Validation"
   ]
  },
  {
   "cell_type": "code",
   "execution_count": 55,
   "id": "6a4007c2-f6c4-4b03-ac63-9c9f961beb40",
   "metadata": {},
   "outputs": [],
   "source": [
    "from sklearn.metrics import accuracy_score,r2_score"
   ]
  },
  {
   "cell_type": "markdown",
   "id": "521907f2-de05-439a-bf30-e0baa9fa55bb",
   "metadata": {},
   "source": [
    "## RandomForestRegressor Testing Score"
   ]
  },
  {
   "cell_type": "code",
   "execution_count": 56,
   "id": "78c809dc-d546-4ffb-8c03-f439c6c2164c",
   "metadata": {},
   "outputs": [
    {
     "data": {
      "text/plain": [
       "0.4849192663714036"
      ]
     },
     "execution_count": 56,
     "metadata": {},
     "output_type": "execute_result"
    }
   ],
   "source": [
    "rf_y_pred=rf1.predict(X_test)\n",
    "r2_score(y_test,rf_y_pred)"
   ]
  },
  {
   "cell_type": "markdown",
   "id": "533e0c64-586c-4d15-b35e-f99126337c68",
   "metadata": {},
   "source": [
    "## LinearRegression Testing Score"
   ]
  },
  {
   "cell_type": "code",
   "execution_count": 57,
   "id": "3a1f17db-1690-4016-b989-328527f8cc87",
   "metadata": {},
   "outputs": [
    {
     "data": {
      "text/plain": [
       "0.3920421026073395"
      ]
     },
     "execution_count": 57,
     "metadata": {},
     "output_type": "execute_result"
    }
   ],
   "source": [
    "lm_y_pred=lm.predict(X_test)\n",
    "r2_score(y_test,lm_y_pred)"
   ]
  },
  {
   "cell_type": "markdown",
   "id": "c1ee2d0e-c143-48bd-9890-424282f46ed6",
   "metadata": {},
   "source": [
    "## DecisionTreeRegressor Testing Score"
   ]
  },
  {
   "cell_type": "code",
   "execution_count": 58,
   "id": "ddc004aa-4fb7-4100-b835-4844d3727712",
   "metadata": {},
   "outputs": [
    {
     "data": {
      "text/plain": [
       "-0.10044091688784573"
      ]
     },
     "execution_count": 58,
     "metadata": {},
     "output_type": "execute_result"
    }
   ],
   "source": [
    "dt_y_pred=dt1.predict(X_test)\n",
    "r2_score(y_test,dt_y_pred)"
   ]
  },
  {
   "cell_type": "code",
   "execution_count": null,
   "id": "6d1a7763-12d8-44eb-8f26-77b0afce48f4",
   "metadata": {},
   "outputs": [],
   "source": []
  },
  {
   "cell_type": "code",
   "execution_count": null,
   "id": "7af8ae2f-0532-41aa-a4ec-9a9a2626406c",
   "metadata": {},
   "outputs": [],
   "source": []
  }
 ],
 "metadata": {
  "kernelspec": {
   "display_name": "Python 3 (ipykernel)",
   "language": "python",
   "name": "python3"
  },
  "language_info": {
   "codemirror_mode": {
    "name": "ipython",
    "version": 3
   },
   "file_extension": ".py",
   "mimetype": "text/x-python",
   "name": "python",
   "nbconvert_exporter": "python",
   "pygments_lexer": "ipython3",
   "version": "3.12.7"
  }
 },
 "nbformat": 4,
 "nbformat_minor": 5
}
